{
  "nbformat": 4,
  "nbformat_minor": 0,
  "metadata": {
    "colab": {
      "name": "Deep Reinforcement Learning Connect 4",
      "version": "0.3.2",
      "provenance": [],
      "collapsed_sections": [],
      "toc_visible": true,
      "include_colab_link": true
    },
    "kernelspec": {
      "name": "python3",
      "display_name": "Python 3"
    }
  },
  "cells": [
    {
      "cell_type": "markdown",
      "metadata": {
        "id": "view-in-github",
        "colab_type": "text"
      },
      "source": [
        "<a href=\"https://colab.research.google.com/github/SurekaStoeckigt/DeepReinforcementLearning/blob/master/Deep_Reinforcement_Learning_Connect_4.ipynb\" target=\"_parent\"><img src=\"https://colab.research.google.com/assets/colab-badge.svg\" alt=\"Open In Colab\"/></a>"
      ]
    },
    {
      "metadata": {
        "id": "5p5qS-MrmVv4",
        "colab_type": "text"
      },
      "cell_type": "markdown",
      "source": [
        "\n",
        "## Deep Reinforcement Learning using AlphaZero methodology\n",
        "Please see https://applied-data.science/blog/how-to-build-your-own-alphazero-ai-using-python-and-keras/ for further notes on the codebase"
      ]
    },
    {
      "metadata": {
        "id": "65VxSSVmlv8X",
        "colab_type": "code",
        "colab": {
          "base_uri": "https://localhost:8080/",
          "height": 2257
        },
        "outputId": "1a8a19fa-47d3-4992-d7c8-488382ebb908"
      },
      "cell_type": "code",
      "source": [
        "!rm -rf DeepReinforcementLearning\n",
        "!git clone https://github.com/AppliedDataSciencePartners/DeepReinforcementLearning.git\n",
        "!pip install -r ./DeepReinforcementLearning/requirements.txt"
      ],
      "execution_count": 0,
      "outputs": [
        {
          "output_type": "stream",
          "text": [
            "Cloning into 'DeepReinforcementLearning'...\n",
            "remote: Enumerating objects: 168, done.\u001b[K\n",
            "remote: Total 168 (delta 0), reused 0 (delta 0), pack-reused 168\u001b[K\n",
            "Receiving objects: 100% (168/168), 2.64 MiB | 6.64 MiB/s, done.\n",
            "Resolving deltas: 100% (79/79), done.\n",
            "Collecting absl-py==0.1.12 (from -r ./DeepReinforcementLearning/requirements.txt (line 1))\n",
            "\u001b[?25l  Downloading https://files.pythonhosted.org/packages/d0/53/cd8524308bb662bb8493ff140c76d329f6e88742e5cd18ee9b3f090ff60d/absl-py-0.1.12.tar.gz (79kB)\n",
            "\u001b[K    100% |████████████████████████████████| 81kB 5.1MB/s \n",
            "\u001b[?25hCollecting appnope==0.1.0 (from -r ./DeepReinforcementLearning/requirements.txt (line 2))\n",
            "  Downloading https://files.pythonhosted.org/packages/87/a9/7985e6a53402f294c8f0e8eff3151a83f1fb901fa92909bb3ff29b4d22af/appnope-0.1.0-py2.py3-none-any.whl\n",
            "Collecting astor==0.6.2 (from -r ./DeepReinforcementLearning/requirements.txt (line 3))\n",
            "  Downloading https://files.pythonhosted.org/packages/b2/91/cc9805f1ff7b49f620136b3a7ca26f6a1be2ed424606804b0fbcf499f712/astor-0.6.2-py2.py3-none-any.whl\n",
            "Collecting bleach==1.5.0 (from -r ./DeepReinforcementLearning/requirements.txt (line 4))\n",
            "  Downloading https://files.pythonhosted.org/packages/33/70/86c5fec937ea4964184d4d6c4f0b9551564f821e1c3575907639036d9b90/bleach-1.5.0-py2.py3-none-any.whl\n",
            "Requirement already satisfied: cycler==0.10.0 in /usr/local/lib/python3.6/dist-packages (from -r ./DeepReinforcementLearning/requirements.txt (line 5)) (0.10.0)\n",
            "Collecting decorator==4.2.1 (from -r ./DeepReinforcementLearning/requirements.txt (line 6))\n",
            "  Downloading https://files.pythonhosted.org/packages/e1/5a/53db15bf367d2028bdc6700dbdf1bdfab46b9f208b7516952817c0808118/decorator-4.2.1-py2.py3-none-any.whl\n",
            "Collecting gast==0.2.0 (from -r ./DeepReinforcementLearning/requirements.txt (line 7))\n",
            "  Downloading https://files.pythonhosted.org/packages/5c/78/ff794fcae2ce8aa6323e789d1f8b3b7765f601e7702726f430e814822b96/gast-0.2.0.tar.gz\n",
            "Collecting graphviz==0.8.2 (from -r ./DeepReinforcementLearning/requirements.txt (line 8))\n",
            "  Downloading https://files.pythonhosted.org/packages/05/e4/8fcc76823534d47f079c0ff1b3d8b57784e8fba63ceb1ded32c9f4dd993c/graphviz-0.8.2-py2.py3-none-any.whl\n",
            "Collecting grpcio==1.10.0 (from -r ./DeepReinforcementLearning/requirements.txt (line 9))\n",
            "\u001b[?25l  Downloading https://files.pythonhosted.org/packages/97/ec/a32bb323eeb32236d2faa7876231225c40fba12771c50a44880155e80c20/grpcio-1.10.0-cp36-cp36m-manylinux1_x86_64.whl (7.5MB)\n",
            "\u001b[K    100% |████████████████████████████████| 7.5MB 3.4MB/s \n",
            "\u001b[?25hCollecting h5py==2.7.1 (from -r ./DeepReinforcementLearning/requirements.txt (line 10))\n",
            "\u001b[?25l  Downloading https://files.pythonhosted.org/packages/f2/b8/a63fcc840bba5c76e453dd712dbca63178a264c8990e0086b72965d4e954/h5py-2.7.1-cp36-cp36m-manylinux1_x86_64.whl (5.4MB)\n",
            "\u001b[K    100% |████████████████████████████████| 5.4MB 8.5MB/s \n",
            "\u001b[?25hCollecting html5lib==0.9999999 (from -r ./DeepReinforcementLearning/requirements.txt (line 11))\n",
            "\u001b[?25l  Downloading https://files.pythonhosted.org/packages/ae/ae/bcb60402c60932b32dfaf19bb53870b29eda2cd17551ba5639219fb5ebf9/html5lib-0.9999999.tar.gz (889kB)\n",
            "\u001b[K    100% |████████████████████████████████| 890kB 23.0MB/s \n",
            "\u001b[?25hCollecting ipykernel==4.8.2 (from -r ./DeepReinforcementLearning/requirements.txt (line 12))\n",
            "\u001b[?25l  Downloading https://files.pythonhosted.org/packages/ab/3f/cd624c835aa3336a9110d0a99e15070f343b881b7d651ab1375ef226a3ac/ipykernel-4.8.2-py3-none-any.whl (108kB)\n",
            "\u001b[K    100% |████████████████████████████████| 112kB 30.0MB/s \n",
            "\u001b[?25hCollecting ipython==6.2.1 (from -r ./DeepReinforcementLearning/requirements.txt (line 13))\n",
            "\u001b[?25l  Downloading https://files.pythonhosted.org/packages/e1/87/294b718125085559b56453be87d90777863173470167e5f1d5de20b9eea3/ipython-6.2.1-py3-none-any.whl (745kB)\n",
            "\u001b[K    100% |████████████████████████████████| 747kB 17.5MB/s \n",
            "\u001b[?25hRequirement already satisfied: ipython-genutils==0.2.0 in /usr/local/lib/python3.6/dist-packages (from -r ./DeepReinforcementLearning/requirements.txt (line 14)) (0.2.0)\n",
            "Collecting jedi==0.11.1 (from -r ./DeepReinforcementLearning/requirements.txt (line 15))\n",
            "\u001b[?25l  Downloading https://files.pythonhosted.org/packages/50/ca/d71f5a427601c98eadabfd73104cacbec8cc230e8416158decf61a48b0c6/jedi-0.11.1-py2.py3-none-any.whl (250kB)\n",
            "\u001b[K    100% |████████████████████████████████| 256kB 28.3MB/s \n",
            "\u001b[?25hCollecting jupyter-client==5.2.3 (from -r ./DeepReinforcementLearning/requirements.txt (line 16))\n",
            "\u001b[?25l  Downloading https://files.pythonhosted.org/packages/94/dd/fe6c4d683b09eb05342bd2816b7779663f71762b4fa9c2d5203d35d17354/jupyter_client-5.2.3-py2.py3-none-any.whl (89kB)\n",
            "\u001b[K    100% |████████████████████████████████| 92kB 28.8MB/s \n",
            "\u001b[?25hRequirement already satisfied: jupyter-core==4.4.0 in /usr/local/lib/python3.6/dist-packages (from -r ./DeepReinforcementLearning/requirements.txt (line 17)) (4.4.0)\n",
            "Collecting Keras==2.1.5 (from -r ./DeepReinforcementLearning/requirements.txt (line 18))\n",
            "\u001b[?25l  Downloading https://files.pythonhosted.org/packages/ba/65/e4aff762b8696ec0626a6654b1e73b396fcc8b7cc6b98d78a1bc53b85b48/Keras-2.1.5-py2.py3-none-any.whl (334kB)\n",
            "\u001b[K    100% |████████████████████████████████| 337kB 28.9MB/s \n",
            "\u001b[?25hRequirement already satisfied: kiwisolver==1.0.1 in /usr/local/lib/python3.6/dist-packages (from -r ./DeepReinforcementLearning/requirements.txt (line 19)) (1.0.1)\n",
            "Collecting Markdown==2.6.11 (from -r ./DeepReinforcementLearning/requirements.txt (line 20))\n",
            "\u001b[?25l  Downloading https://files.pythonhosted.org/packages/6d/7d/488b90f470b96531a3f5788cf12a93332f543dbab13c423a5e7ce96a0493/Markdown-2.6.11-py2.py3-none-any.whl (78kB)\n",
            "\u001b[K    100% |████████████████████████████████| 81kB 26.0MB/s \n",
            "\u001b[?25hCollecting matplotlib==2.2.2 (from -r ./DeepReinforcementLearning/requirements.txt (line 21))\n",
            "\u001b[?25l  Downloading https://files.pythonhosted.org/packages/49/b8/89dbd27f2fb171ce753bb56220d4d4f6dbc5fe32b95d8edc4415782ef07f/matplotlib-2.2.2-cp36-cp36m-manylinux1_x86_64.whl (12.6MB)\n",
            "\u001b[K    100% |████████████████████████████████| 12.6MB 982kB/s \n",
            "\u001b[?25hCollecting numpy==1.14.2 (from -r ./DeepReinforcementLearning/requirements.txt (line 22))\n",
            "\u001b[?25l  Downloading https://files.pythonhosted.org/packages/6e/dc/92c0f670e7b986829fc92c4c0208edb9d72908149da38ecda50d816ea057/numpy-1.14.2-cp36-cp36m-manylinux1_x86_64.whl (12.2MB)\n",
            "\u001b[K    100% |████████████████████████████████| 12.2MB 104kB/s \n",
            "\u001b[?25hCollecting parso==0.1.1 (from -r ./DeepReinforcementLearning/requirements.txt (line 23))\n",
            "\u001b[?25l  Downloading https://files.pythonhosted.org/packages/c6/2f/96f54499c920070ccc1bffaee115a6a0cf1a0e7ece34b8faa7ee632688dd/parso-0.1.1-py2.py3-none-any.whl (91kB)\n",
            "\u001b[K    100% |████████████████████████████████| 92kB 27.2MB/s \n",
            "\u001b[?25hCollecting pexpect==4.4.0 (from -r ./DeepReinforcementLearning/requirements.txt (line 24))\n",
            "\u001b[?25l  Downloading https://files.pythonhosted.org/packages/05/80/3a8f823aadc85a8ba3744d95ba591cbe999fbca5d97429a056fd82c4ea92/pexpect-4.4.0-py2.py3-none-any.whl (56kB)\n",
            "\u001b[K    100% |████████████████████████████████| 61kB 17.9MB/s \n",
            "\u001b[?25hCollecting pickleshare==0.7.4 (from -r ./DeepReinforcementLearning/requirements.txt (line 25))\n",
            "  Downloading https://files.pythonhosted.org/packages/9f/17/daa142fc9be6b76f26f24eeeb9a138940671490b91cb5587393f297c8317/pickleshare-0.7.4-py2.py3-none-any.whl\n",
            "Collecting prompt-toolkit==1.0.15 (from -r ./DeepReinforcementLearning/requirements.txt (line 26))\n",
            "\u001b[?25l  Downloading https://files.pythonhosted.org/packages/04/d1/c6616dd03701e7e2073f06d5c3b41b012256e42b72561f16a7bd86dd7b43/prompt_toolkit-1.0.15-py3-none-any.whl (247kB)\n",
            "\u001b[K    100% |████████████████████████████████| 256kB 30.1MB/s \n",
            "\u001b[?25hCollecting protobuf==3.5.2.post1 (from -r ./DeepReinforcementLearning/requirements.txt (line 27))\n",
            "\u001b[?25l  Downloading https://files.pythonhosted.org/packages/74/ad/ecd865eb1ba1ff7f6bd6bcb731a89d55bc0450ced8d457ed2d167c7b8d5f/protobuf-3.5.2.post1-cp36-cp36m-manylinux1_x86_64.whl (6.4MB)\n",
            "\u001b[K    100% |████████████████████████████████| 6.4MB 7.2MB/s \n",
            "\u001b[?25hCollecting ptyprocess==0.5.2 (from -r ./DeepReinforcementLearning/requirements.txt (line 28))\n",
            "  Downloading https://files.pythonhosted.org/packages/ff/4e/fa4a73ccfefe2b37d7b6898329e7dbcd1ac846ba3a3b26b294a78a3eb997/ptyprocess-0.5.2-py2.py3-none-any.whl\n",
            "Collecting pydot==1.2.4 (from -r ./DeepReinforcementLearning/requirements.txt (line 29))\n",
            "\u001b[?25l  Downloading https://files.pythonhosted.org/packages/c3/f1/e61d6dfe6c1768ed2529761a68f70939e2569da043e9f15a8d84bf56cadf/pydot-1.2.4.tar.gz (132kB)\n",
            "\u001b[K    100% |████████████████████████████████| 133kB 32.3MB/s \n",
            "\u001b[?25hCollecting pydot-ng==1.0.0 (from -r ./DeepReinforcementLearning/requirements.txt (line 30))\n",
            "  Downloading https://files.pythonhosted.org/packages/de/64/86b0502c3644190c0b9fed0e378ee18f31b1f0262bdead1eb9ac1d404529/pydot_ng-1.0.0.tar.gz\n",
            "Collecting Pygments==2.2.0 (from -r ./DeepReinforcementLearning/requirements.txt (line 31))\n",
            "\u001b[?25l  Downloading https://files.pythonhosted.org/packages/02/ee/b6e02dc6529e82b75bb06823ff7d005b141037cb1416b10c6f00fc419dca/Pygments-2.2.0-py2.py3-none-any.whl (841kB)\n",
            "\u001b[K    100% |████████████████████████████████| 849kB 22.7MB/s \n",
            "\u001b[?25hCollecting pyparsing==2.2.0 (from -r ./DeepReinforcementLearning/requirements.txt (line 32))\n",
            "\u001b[?25l  Downloading https://files.pythonhosted.org/packages/6a/8a/718fd7d3458f9fab8e67186b00abdd345b639976bc7fb3ae722e1b026a50/pyparsing-2.2.0-py2.py3-none-any.whl (56kB)\n",
            "\u001b[K    100% |████████████████████████████████| 61kB 18.1MB/s \n",
            "\u001b[?25hCollecting python-dateutil==2.7.1 (from -r ./DeepReinforcementLearning/requirements.txt (line 33))\n",
            "\u001b[?25l  Downloading https://files.pythonhosted.org/packages/95/27/d6be8938e2cd9c956c2c6c0b3253e1c62d6db29a52b477943da3c3ec728c/python_dateutil-2.7.1-py2.py3-none-any.whl (212kB)\n",
            "\u001b[K    100% |████████████████████████████████| 215kB 27.0MB/s \n",
            "\u001b[?25hCollecting pytz==2018.3 (from -r ./DeepReinforcementLearning/requirements.txt (line 34))\n",
            "\u001b[?25l  Downloading https://files.pythonhosted.org/packages/3c/80/32e98784a8647880dedf1f6bf8e2c91b195fe18fdecc6767dcf5104598d6/pytz-2018.3-py2.py3-none-any.whl (509kB)\n",
            "\u001b[K    100% |████████████████████████████████| 512kB 23.9MB/s \n",
            "\u001b[?25hCollecting PyYAML==3.12 (from -r ./DeepReinforcementLearning/requirements.txt (line 35))\n",
            "\u001b[?25l  Downloading https://files.pythonhosted.org/packages/4a/85/db5a2df477072b2902b0eb892feb37d88ac635d36245a72a6a69b23b383a/PyYAML-3.12.tar.gz (253kB)\n",
            "\u001b[K    100% |████████████████████████████████| 256kB 29.7MB/s \n",
            "\u001b[?25hRequirement already satisfied: pyzmq==17.0.0 in /usr/local/lib/python3.6/dist-packages (from -r ./DeepReinforcementLearning/requirements.txt (line 36)) (17.0.0)\n",
            "Collecting scipy==1.0.1 (from -r ./DeepReinforcementLearning/requirements.txt (line 37))\n",
            "\u001b[?25l  Downloading https://files.pythonhosted.org/packages/2c/13/eb888fcc83f14d114dee794c3491477ce156caa9f456b7bef1112dde36b5/scipy-1.0.1-cp36-cp36m-manylinux1_x86_64.whl (50.0MB)\n",
            "\u001b[K    100% |████████████████████████████████| 50.0MB 626kB/s \n",
            "\u001b[?25hRequirement already satisfied: simplegeneric==0.8.1 in /usr/local/lib/python3.6/dist-packages (from -r ./DeepReinforcementLearning/requirements.txt (line 38)) (0.8.1)\n",
            "Requirement already satisfied: six==1.11.0 in /usr/local/lib/python3.6/dist-packages (from -r ./DeepReinforcementLearning/requirements.txt (line 39)) (1.11.0)\n",
            "Collecting tensorboard==1.6.0 (from -r ./DeepReinforcementLearning/requirements.txt (line 40))\n",
            "\u001b[?25l  Downloading https://files.pythonhosted.org/packages/b0/67/a8c91665987d359211dcdca5c8b2a7c1e0876eb0702a4383c1e4ff76228d/tensorboard-1.6.0-py3-none-any.whl (3.0MB)\n",
            "\u001b[K    100% |████████████████████████████████| 3.1MB 13.2MB/s \n",
            "\u001b[?25hCollecting tensorflow==1.6.0 (from -r ./DeepReinforcementLearning/requirements.txt (line 41))\n",
            "\u001b[?25l  Downloading https://files.pythonhosted.org/packages/d9/0f/fbd8bb92459c75db93040f80702ebe4ba83a52cdb6ad930654c31dc0b711/tensorflow-1.6.0-cp36-cp36m-manylinux1_x86_64.whl (45.8MB)\n",
            "\u001b[K    100% |████████████████████████████████| 45.9MB 885kB/s \n",
            "\u001b[?25hRequirement already satisfied: termcolor==1.1.0 in /usr/local/lib/python3.6/dist-packages (from -r ./DeepReinforcementLearning/requirements.txt (line 42)) (1.1.0)\n",
            "Collecting tornado==5.0.1 (from -r ./DeepReinforcementLearning/requirements.txt (line 43))\n",
            "\u001b[?25l  Downloading https://files.pythonhosted.org/packages/66/60/5b34caa5014eb3f1deb16d0e72cc08abeec7a9c9823486da7984ddadc95f/tornado-5.0.1.tar.gz (504kB)\n",
            "\u001b[K    100% |████████████████████████████████| 512kB 22.9MB/s \n",
            "\u001b[?25hRequirement already satisfied: traitlets==4.3.2 in /usr/local/lib/python3.6/dist-packages (from -r ./DeepReinforcementLearning/requirements.txt (line 44)) (4.3.2)\n",
            "Requirement already satisfied: wcwidth==0.1.7 in /usr/local/lib/python3.6/dist-packages (from -r ./DeepReinforcementLearning/requirements.txt (line 45)) (0.1.7)\n",
            "Collecting Werkzeug==0.14.1 (from -r ./DeepReinforcementLearning/requirements.txt (line 46))\n",
            "\u001b[?25l  Downloading https://files.pythonhosted.org/packages/20/c4/12e3e56473e52375aa29c4764e70d1b8f3efa6682bef8d0aae04fe335243/Werkzeug-0.14.1-py2.py3-none-any.whl (322kB)\n",
            "\u001b[K    100% |████████████████████████████████| 327kB 25.1MB/s \n",
            "\u001b[?25hRequirement already satisfied: setuptools>=18.5 in /usr/local/lib/python3.6/dist-packages (from ipython==6.2.1->-r ./DeepReinforcementLearning/requirements.txt (line 13)) (40.9.0)\n",
            "Requirement already satisfied: wheel>=0.26; python_version >= \"3\" in /usr/local/lib/python3.6/dist-packages (from tensorboard==1.6.0->-r ./DeepReinforcementLearning/requirements.txt (line 40)) (0.33.1)\n",
            "Building wheels for collected packages: absl-py, gast, html5lib, pydot, pydot-ng, PyYAML, tornado\n",
            "  Building wheel for absl-py (setup.py) ... \u001b[?25ldone\n",
            "\u001b[?25h  Stored in directory: /root/.cache/pip/wheels/f3/6d/ce/98cfc871c5846580a58a0167483395a24b2728ab6770fcc218\n",
            "  Building wheel for gast (setup.py) ... \u001b[?25ldone\n",
            "\u001b[?25h  Stored in directory: /root/.cache/pip/wheels/9a/1f/0e/3cde98113222b853e98fc0a8e9924480a3e25f1b4008cedb4f\n",
            "  Building wheel for html5lib (setup.py) ... \u001b[?25ldone\n",
            "\u001b[?25h  Stored in directory: /root/.cache/pip/wheels/50/ae/f9/d2b189788efcf61d1ee0e36045476735c838898eef1cad6e29\n",
            "  Building wheel for pydot (setup.py) ... \u001b[?25ldone\n",
            "\u001b[?25h  Stored in directory: /root/.cache/pip/wheels/6a/a5/14/25541ebcdeaf97a37b6d05c7ff15f5bd20f5e91b99d313e5b4\n",
            "  Building wheel for pydot-ng (setup.py) ... \u001b[?25ldone\n",
            "\u001b[?25h  Stored in directory: /root/.cache/pip/wheels/ef/d1/b6/e2b937c79d99d49b7db9233832a425c7e6b787486f5831b302\n",
            "  Building wheel for PyYAML (setup.py) ... \u001b[?25ldone\n",
            "\u001b[?25h  Stored in directory: /root/.cache/pip/wheels/03/05/65/bdc14f2c6e09e82ae3e0f13d021e1b6b2481437ea2f207df3f\n"
          ],
          "name": "stdout"
        }
      ]
    },
    {
      "metadata": {
        "id": "WjMdnRSRnJzz",
        "colab_type": "text"
      },
      "cell_type": "markdown",
      "source": [
        "\n",
        "### 1. First load the core libraries"
      ]
    },
    {
      "metadata": {
        "id": "N1XipB0MqCj6",
        "colab_type": "code",
        "colab": {}
      },
      "cell_type": "code",
      "source": [
        "%cd ./DeepReinforcementLearning\n",
        "!ls"
      ],
      "execution_count": 0,
      "outputs": []
    },
    {
      "metadata": {
        "id": "i6denC5WnF59",
        "colab_type": "code",
        "colab": {}
      },
      "cell_type": "code",
      "source": [
        "# -*- coding: utf-8 -*-\n",
        "# %matplotlib inline\n",
        "%load_ext autoreload\n",
        "%autoreload 2\n",
        "\n",
        "import numpy as np\n",
        "np.set_printoptions(suppress=True)\n",
        "\n",
        "from shutil import copyfile\n",
        "import random\n",
        "from importlib import reload\n",
        "\n",
        "\n",
        "from keras.utils import plot_model\n",
        "\n",
        "from game import Game, GameState\n",
        "from agent import Agent\n",
        "from memory import Memory\n",
        "from model import Residual_CNN\n",
        "from funcs import playMatches, playMatchesBetweenVersions\n",
        "\n",
        "import loggers as lg\n",
        "\n",
        "from settings import run_folder, run_archive_folder\n",
        "import initialise\n",
        "import pickle"
      ],
      "execution_count": 0,
      "outputs": []
    },
    {
      "metadata": {
        "id": "yBdpLBaZoGSP",
        "colab_type": "text"
      },
      "cell_type": "markdown",
      "source": [
        "### 2. Now run this block to start the learning process\n",
        "This block loops for ever, continually learning from new game data.\n",
        "\n",
        "The current best model and memories are saved in the run folder so you can kill the process and restart from the last checkpoint."
      ]
    },
    {
      "metadata": {
        "id": "8ZIZHJldoJHg",
        "colab_type": "code",
        "colab": {}
      },
      "cell_type": "code",
      "source": [
        "lg.logger_main.info('=*=*=*=*=*=*=*=*=*=*=*=*=*=*=*=*=*=*=*=*=*')\n",
        "lg.logger_main.info('=*=*=*=*=*=.      NEW LOG      =*=*=*=*=*')\n",
        "lg.logger_main.info('=*=*=*=*=*=*=*=*=*=*=*=*=*=*=*=*=*=*=*=*=*')\n",
        "\n",
        "env = Game()\n",
        "\n",
        "# If loading an existing neural network, copy the config file to root\n",
        "if initialise.INITIAL_RUN_NUMBER != None:\n",
        "    copyfile(run_archive_folder + env.name + '/run' + str(initialise.INITIAL_RUN_NUMBER).zfill(4) + '/config.py', './config.py')\n",
        "\n",
        "import config\n",
        "\n",
        "######## LOAD MEMORIES IF NECESSARY ########\n",
        "\n",
        "if initialise.INITIAL_MEMORY_VERSION == None:\n",
        "    memory = Memory(config.MEMORY_SIZE)\n",
        "else:\n",
        "    print('LOADING MEMORY VERSION ' + str(initialise.INITIAL_MEMORY_VERSION) + '...')\n",
        "    memory = pickle.load( open( run_archive_folder + env.name + '/run' + str(initialise.INITIAL_RUN_NUMBER).zfill(4) + \"/memory/memory\" + str(initialise.INITIAL_MEMORY_VERSION).zfill(4) + \".p\",   \"rb\" ) )\n",
        "\n",
        "######## LOAD MODEL IF NECESSARY ########\n",
        "\n",
        "# create an untrained neural network objects from the config file\n",
        "current_NN = Residual_CNN(config.REG_CONST, config.LEARNING_RATE, (2,) + env.grid_shape,   env.action_size, config.HIDDEN_CNN_LAYERS)\n",
        "best_NN = Residual_CNN(config.REG_CONST, config.LEARNING_RATE, (2,) +  env.grid_shape,   env.action_size, config.HIDDEN_CNN_LAYERS)\n",
        "\n",
        "#If loading an existing neural netwrok, set the weights from that model\n",
        "if initialise.INITIAL_MODEL_VERSION != None:\n",
        "    best_player_version  = initialise.INITIAL_MODEL_VERSION\n",
        "    print('LOADING MODEL VERSION ' + str(initialise.INITIAL_MODEL_VERSION) + '...')\n",
        "    m_tmp = best_NN.read(env.name, initialise.INITIAL_RUN_NUMBER, best_player_version)\n",
        "    current_NN.model.set_weights(m_tmp.get_weights())\n",
        "    best_NN.model.set_weights(m_tmp.get_weights())\n",
        "#otherwise just ensure the weights on the two players are the same\n",
        "else:\n",
        "    best_player_version = 0\n",
        "    best_NN.model.set_weights(current_NN.model.get_weights())\n",
        "\n",
        "#copy the config file to the run folder\n",
        "copyfile('./config.py', run_folder + 'config.py')\n",
        "plot_model(current_NN.model, to_file=run_folder + 'models/model.png', show_shapes = True)\n",
        "\n",
        "print('\\n')\n",
        "\n",
        "######## CREATE THE PLAYERS ########\n",
        "\n",
        "current_player = Agent('current_player', env.state_size, env.action_size, config.MCTS_SIMS, config.CPUCT, current_NN)\n",
        "best_player = Agent('best_player', env.state_size, env.action_size, config.MCTS_SIMS, config.CPUCT, best_NN)\n",
        "#user_player = User('player1', env.state_size, env.action_size)\n",
        "iteration = 0\n",
        "\n",
        "while 1:\n",
        "\n",
        "    iteration += 1\n",
        "    reload(lg)\n",
        "    reload(config)\n",
        "    \n",
        "    print('ITERATION NUMBER ' + str(iteration))\n",
        "    \n",
        "    lg.logger_main.info('BEST PLAYER VERSION: %d', best_player_version)\n",
        "    print('BEST PLAYER VERSION ' + str(best_player_version))\n",
        "\n",
        "    ######## SELF PLAY ########\n",
        "    print('SELF PLAYING ' + str(config.EPISODES) + ' EPISODES...')\n",
        "    _, memory, _, _ = playMatches(best_player, best_player, config.EPISODES, lg.logger_main, turns_until_tau0 = config.TURNS_UNTIL_TAU0, memory = memory)\n",
        "    print('\\n')\n",
        "    \n",
        "    memory.clear_stmemory()\n",
        "    \n",
        "    if len(memory.ltmemory) >= config.MEMORY_SIZE:\n",
        "\n",
        "        ######## RETRAINING ########\n",
        "        print('RETRAINING...')\n",
        "        current_player.replay(memory.ltmemory)\n",
        "        print('')\n",
        "\n",
        "        if iteration % 5 == 0:\n",
        "            pickle.dump( memory, open( run_folder + \"memory/memory\" + str(iteration).zfill(4) + \".p\", \"wb\" ) )\n",
        "\n",
        "        lg.logger_memory.info('====================')\n",
        "        lg.logger_memory.info('NEW MEMORIES')\n",
        "        lg.logger_memory.info('====================')\n",
        "        \n",
        "        memory_samp = random.sample(memory.ltmemory, min(1000, len(memory.ltmemory)))\n",
        "        \n",
        "        for s in memory_samp:\n",
        "            current_value, current_probs, _ = current_player.get_preds(s['state'])\n",
        "            best_value, best_probs, _ = best_player.get_preds(s['state'])\n",
        "\n",
        "            lg.logger_memory.info('MCTS VALUE FOR %s: %f', s['playerTurn'], s['value'])\n",
        "            lg.logger_memory.info('CUR PRED VALUE FOR %s: %f', s['playerTurn'], current_value)\n",
        "            lg.logger_memory.info('BES PRED VALUE FOR %s: %f', s['playerTurn'], best_value)\n",
        "            lg.logger_memory.info('THE MCTS ACTION VALUES: %s', ['%.2f' % elem for elem in s['AV']]  )\n",
        "            lg.logger_memory.info('CUR PRED ACTION VALUES: %s', ['%.2f' % elem for elem in  current_probs])\n",
        "            lg.logger_memory.info('BES PRED ACTION VALUES: %s', ['%.2f' % elem for elem in  best_probs])\n",
        "            lg.logger_memory.info('ID: %s', s['state'].id)\n",
        "            lg.logger_memory.info('INPUT TO MODEL: %s', current_player.model.convertToModelInput(s['state']))\n",
        "\n",
        "            s['state'].render(lg.logger_memory)\n",
        "            \n",
        "        ######## TOURNAMENT ########\n",
        "        print('TOURNAMENT...')\n",
        "        scores, _, points, sp_scores = playMatches(best_player, current_player, config.EVAL_EPISODES, lg.logger_tourney, turns_until_tau0 = 0, memory = None)\n",
        "        print('\\nSCORES')\n",
        "        print(scores)\n",
        "        print('\\nSTARTING PLAYER / NON-STARTING PLAYER SCORES')\n",
        "        print(sp_scores)\n",
        "        #print(points)\n",
        "\n",
        "        print('\\n\\n')\n",
        "\n",
        "        if scores['current_player'] > scores['best_player'] * config.SCORING_THRESHOLD:\n",
        "            best_player_version = best_player_version + 1\n",
        "            best_NN.model.set_weights(current_NN.model.get_weights())\n",
        "            best_NN.write(env.name, best_player_version)\n",
        "\n",
        "    else:\n",
        "        print('MEMORY SIZE: ' + str(len(memory.ltmemory)))"
      ],
      "execution_count": 0,
      "outputs": []
    },
    {
      "metadata": {
        "id": "jI0HD6aaoMfn",
        "colab_type": "text"
      },
      "cell_type": "markdown",
      "source": [
        "\n",
        "## The following panels are not involved in the learning process¶\n",
        "### Play matches between versions (use -1 for human player"
      ]
    },
    {
      "metadata": {
        "id": "iGZrCBK-oPuK",
        "colab_type": "code",
        "colab": {}
      },
      "cell_type": "code",
      "source": [
        "from game import Game\n",
        "from funcs import playMatchesBetweenVersions\n",
        "import loggers as lg\n",
        "\n",
        "env = Game()\n",
        "playMatchesBetweenVersions(env, 1, 1, 1, 10, lg.logger_tourney, 0)"
      ],
      "execution_count": 0,
      "outputs": []
    },
    {
      "metadata": {
        "id": "KylVyai5oUc_",
        "colab_type": "text"
      },
      "cell_type": "markdown",
      "source": [
        "### Pass a particular game state through the neural network (setup below for Connect4)\n"
      ]
    },
    {
      "metadata": {
        "id": "7dWaDRW8oW_d",
        "colab_type": "code",
        "colab": {}
      },
      "cell_type": "code",
      "source": [
        "gs = GameState(np.array([\n",
        "    0,0,0,0,0,0,0,\n",
        "    0,0,0,0,0,0,0,\n",
        "    0,0,0,0,0,0,0,\n",
        "    0,0,0,0,0,0,0,\n",
        "    0,0,0,0,0,0,0,\n",
        "    0,0,0,0,0,0,0\n",
        "]), 1)\n",
        "\n",
        "preds = current_player.get_preds(gs)\n",
        "\n",
        "print(preds)"
      ],
      "execution_count": 0,
      "outputs": []
    },
    {
      "metadata": {
        "id": "AQEqnbSXoZI5",
        "colab_type": "text"
      },
      "cell_type": "markdown",
      "source": [
        "### See the layers of the current neural network"
      ]
    },
    {
      "metadata": {
        "id": "4SSaMiHqoaxh",
        "colab_type": "code",
        "colab": {}
      },
      "cell_type": "code",
      "source": [
        "current_player.model.viewLayers()"
      ],
      "execution_count": 0,
      "outputs": []
    },
    {
      "metadata": {
        "id": "5lZ8Lxhyod2a",
        "colab_type": "text"
      },
      "cell_type": "markdown",
      "source": [
        "### Output a diagram of the neural network architecture"
      ]
    },
    {
      "metadata": {
        "id": "8qxvf7P1ogVv",
        "colab_type": "code",
        "colab": {}
      },
      "cell_type": "code",
      "source": [
        "from keras.utils import plot_model\n",
        "plot_model(current_NN.model, to_file=run_folder + 'models/model.png', show_shapes = True)"
      ],
      "execution_count": 0,
      "outputs": []
    }
  ]
}